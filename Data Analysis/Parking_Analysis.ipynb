{
 "cells": [
  {
   "cell_type": "code",
   "execution_count": 4,
   "id": "c6773f47",
   "metadata": {
    "executionInfo": {
     "elapsed": 1080,
     "status": "ok",
     "timestamp": 1668123557604,
     "user": {
      "displayName": "Vijay Balaji",
      "userId": "09501412391648668383"
     },
     "user_tz": 300
    },
    "id": "c6773f47"
   },
   "outputs": [],
   "source": [
    "import numpy as np\n",
    "import pandas as pd\n",
    "\n",
    "from sklearn import datasets\n",
    "from sklearn import preprocessing\n",
    "from sklearn import feature_extraction\n",
    "from sklearn import metrics\n",
    "\n",
    "import matplotlib.pyplot as plt\n",
    "%matplotlib inline\n",
    "import seaborn as sns\n",
    "import matplotlib.ticker as ticker\n",
    "from sklearn.utils import resample\n",
    "\n",
    "\n",
    "import warnings\n",
    "warnings.filterwarnings('ignore')"
   ]
  },
  {
   "cell_type": "code",
   "execution_count": 5,
   "id": "8c6624df",
   "metadata": {
    "colab": {
     "base_uri": "https://localhost:8080/",
     "height": 346
    },
    "executionInfo": {
     "elapsed": 147,
     "status": "error",
     "timestamp": 1668123567485,
     "user": {
      "displayName": "Vijay Balaji",
      "userId": "09501412391648668383"
     },
     "user_tz": 300
    },
    "id": "8c6624df",
    "outputId": "7b29cdef-9cdf-4ca2-9d7e-c2518d227709"
   },
   "outputs": [
    {
     "data": {
      "text/html": [
       "<div>\n",
       "<style scoped>\n",
       "    .dataframe tbody tr th:only-of-type {\n",
       "        vertical-align: middle;\n",
       "    }\n",
       "\n",
       "    .dataframe tbody tr th {\n",
       "        vertical-align: top;\n",
       "    }\n",
       "\n",
       "    .dataframe thead th {\n",
       "        text-align: right;\n",
       "    }\n",
       "</style>\n",
       "<table border=\"1\" class=\"dataframe\">\n",
       "  <thead>\n",
       "    <tr style=\"text-align: right;\">\n",
       "      <th></th>\n",
       "      <th>INC_UID</th>\n",
       "      <th>INC_INFO</th>\n",
       "      <th>INC_DATE</th>\n",
       "      <th>INC_MODIFY_DATE</th>\n",
       "      <th>PER_NUMBER</th>\n",
       "    </tr>\n",
       "  </thead>\n",
       "  <tbody>\n",
       "    <tr>\n",
       "      <th>0</th>\n",
       "      <td>13947555</td>\n",
       "      <td>Valid Credential Entry</td>\n",
       "      <td>7/17/2021 12:52:37 AM</td>\n",
       "      <td>7/17/2021 12:52:39 AM</td>\n",
       "      <td>21NEG00123</td>\n",
       "    </tr>\n",
       "    <tr>\n",
       "      <th>1</th>\n",
       "      <td>13947556</td>\n",
       "      <td>Valid Credential Exit</td>\n",
       "      <td>7/17/2021 1:25:24 AM</td>\n",
       "      <td>7/17/2021 1:25:31 AM</td>\n",
       "      <td>21NEG00123</td>\n",
       "    </tr>\n",
       "    <tr>\n",
       "      <th>2</th>\n",
       "      <td>13947557</td>\n",
       "      <td>Valid Credential Exit</td>\n",
       "      <td>7/17/2021 1:35:23 AM</td>\n",
       "      <td>7/17/2021 1:35:29 AM</td>\n",
       "      <td>21NEG00135</td>\n",
       "    </tr>\n",
       "    <tr>\n",
       "      <th>3</th>\n",
       "      <td>13947560</td>\n",
       "      <td>Valid Credential Exit</td>\n",
       "      <td>7/17/2021 4:05:03 AM</td>\n",
       "      <td>7/17/2021 4:05:07 AM</td>\n",
       "      <td>21NEG00103</td>\n",
       "    </tr>\n",
       "    <tr>\n",
       "      <th>4</th>\n",
       "      <td>13947561</td>\n",
       "      <td>Valid Credential Exit</td>\n",
       "      <td>7/17/2021 4:05:20 AM</td>\n",
       "      <td>7/17/2021 4:05:23 AM</td>\n",
       "      <td>21NEG00104</td>\n",
       "    </tr>\n",
       "  </tbody>\n",
       "</table>\n",
       "</div>"
      ],
      "text/plain": [
       "    INC_UID                INC_INFO               INC_DATE  \\\n",
       "0  13947555  Valid Credential Entry  7/17/2021 12:52:37 AM   \n",
       "1  13947556   Valid Credential Exit   7/17/2021 1:25:24 AM   \n",
       "2  13947557   Valid Credential Exit   7/17/2021 1:35:23 AM   \n",
       "3  13947560   Valid Credential Exit   7/17/2021 4:05:03 AM   \n",
       "4  13947561   Valid Credential Exit   7/17/2021 4:05:20 AM   \n",
       "\n",
       "         INC_MODIFY_DATE  PER_NUMBER  \n",
       "0  7/17/2021 12:52:39 AM  21NEG00123  \n",
       "1   7/17/2021 1:25:31 AM  21NEG00123  \n",
       "2   7/17/2021 1:35:29 AM  21NEG00135  \n",
       "3   7/17/2021 4:05:07 AM  21NEG00103  \n",
       "4   7/17/2021 4:05:23 AM  21NEG00104  "
      ]
     },
     "execution_count": 5,
     "metadata": {},
     "output_type": "execute_result"
    }
   ],
   "source": [
    "df = pd.read_csv(r\"C:\\Users\\vijay\\Desktop\\Courses\\Capstone\\Analysis\\Incidents_Student_Group.txt\")\n",
    "df.head()"
   ]
  },
  {
   "cell_type": "code",
   "execution_count": 6,
   "id": "fd476247",
   "metadata": {
    "colab": {
     "base_uri": "https://localhost:8080/",
     "height": 300
    },
    "executionInfo": {
     "elapsed": 12,
     "status": "ok",
     "timestamp": 1668103571250,
     "user": {
      "displayName": "anupa s",
      "userId": "01249185228802468250"
     },
     "user_tz": 300
    },
    "id": "fd476247",
    "outputId": "4744ce5b-a1e0-4778-93ba-0a083e6809bc"
   },
   "outputs": [
    {
     "data": {
      "text/html": [
       "<div>\n",
       "<style scoped>\n",
       "    .dataframe tbody tr th:only-of-type {\n",
       "        vertical-align: middle;\n",
       "    }\n",
       "\n",
       "    .dataframe tbody tr th {\n",
       "        vertical-align: top;\n",
       "    }\n",
       "\n",
       "    .dataframe thead th {\n",
       "        text-align: right;\n",
       "    }\n",
       "</style>\n",
       "<table border=\"1\" class=\"dataframe\">\n",
       "  <thead>\n",
       "    <tr style=\"text-align: right;\">\n",
       "      <th></th>\n",
       "      <th>INC_UID</th>\n",
       "    </tr>\n",
       "  </thead>\n",
       "  <tbody>\n",
       "    <tr>\n",
       "      <th>count</th>\n",
       "      <td>7.026180e+05</td>\n",
       "    </tr>\n",
       "    <tr>\n",
       "      <th>mean</th>\n",
       "      <td>1.454892e+07</td>\n",
       "    </tr>\n",
       "    <tr>\n",
       "      <th>std</th>\n",
       "      <td>3.460514e+05</td>\n",
       "    </tr>\n",
       "    <tr>\n",
       "      <th>min</th>\n",
       "      <td>1.394756e+07</td>\n",
       "    </tr>\n",
       "    <tr>\n",
       "      <th>25%</th>\n",
       "      <td>1.424062e+07</td>\n",
       "    </tr>\n",
       "    <tr>\n",
       "      <th>50%</th>\n",
       "      <td>1.458617e+07</td>\n",
       "    </tr>\n",
       "    <tr>\n",
       "      <th>75%</th>\n",
       "      <td>1.485459e+07</td>\n",
       "    </tr>\n",
       "    <tr>\n",
       "      <th>max</th>\n",
       "      <td>1.510968e+07</td>\n",
       "    </tr>\n",
       "  </tbody>\n",
       "</table>\n",
       "</div>"
      ],
      "text/plain": [
       "            INC_UID\n",
       "count  7.026180e+05\n",
       "mean   1.454892e+07\n",
       "std    3.460514e+05\n",
       "min    1.394756e+07\n",
       "25%    1.424062e+07\n",
       "50%    1.458617e+07\n",
       "75%    1.485459e+07\n",
       "max    1.510968e+07"
      ]
     },
     "execution_count": 6,
     "metadata": {},
     "output_type": "execute_result"
    }
   ],
   "source": [
    "df.describe()"
   ]
  },
  {
   "cell_type": "code",
   "execution_count": 7,
   "id": "24461e64",
   "metadata": {
    "colab": {
     "base_uri": "https://localhost:8080/"
    },
    "executionInfo": {
     "elapsed": 10,
     "status": "ok",
     "timestamp": 1668103571251,
     "user": {
      "displayName": "anupa s",
      "userId": "01249185228802468250"
     },
     "user_tz": 300
    },
    "id": "24461e64",
    "outputId": "7cb40d3b-71d1-44b9-e35f-7c5ddb6c6dd8"
   },
   "outputs": [
    {
     "name": "stdout",
     "output_type": "stream",
     "text": [
      "(702618, 5)\n"
     ]
    },
    {
     "data": {
      "text/plain": [
       "(702618, 5)"
      ]
     },
     "execution_count": 7,
     "metadata": {},
     "output_type": "execute_result"
    }
   ],
   "source": [
    "print(df.shape)\n",
    "df.shape"
   ]
  },
  {
   "cell_type": "code",
   "execution_count": 8,
   "id": "ee4edebf",
   "metadata": {
    "colab": {
     "base_uri": "https://localhost:8080/"
    },
    "executionInfo": {
     "elapsed": 7,
     "status": "ok",
     "timestamp": 1668103571251,
     "user": {
      "displayName": "anupa s",
      "userId": "01249185228802468250"
     },
     "user_tz": 300
    },
    "id": "ee4edebf",
    "outputId": "15cde0b3-ed7b-4726-8e45-d69cae89798d"
   },
   "outputs": [
    {
     "data": {
      "text/plain": [
       "INC_UID            702618\n",
       "INC_INFO             5880\n",
       "INC_DATE           582883\n",
       "INC_MODIFY_DATE    592450\n",
       "PER_NUMBER         104426\n",
       "dtype: int64"
      ]
     },
     "execution_count": 8,
     "metadata": {},
     "output_type": "execute_result"
    }
   ],
   "source": [
    "df.nunique()"
   ]
  },
  {
   "cell_type": "markdown",
   "id": "8FHN0vXiZl9V",
   "metadata": {
    "id": "8FHN0vXiZl9V"
   },
   "source": [
    "**Type OF Entery Permits**"
   ]
  },
  {
   "cell_type": "code",
   "execution_count": 9,
   "id": "BZ-hVsS0cmU9",
   "metadata": {
    "colab": {
     "base_uri": "https://localhost:8080/"
    },
    "executionInfo": {
     "elapsed": 2044,
     "status": "ok",
     "timestamp": 1668103573290,
     "user": {
      "displayName": "anupa s",
      "userId": "01249185228802468250"
     },
     "user_tz": 300
    },
    "id": "BZ-hVsS0cmU9",
    "outputId": "716cda46-5b21-4fd2-cc28-f70456fbabb1"
   },
   "outputs": [
    {
     "data": {
      "text/plain": [
       "104426"
      ]
     },
     "execution_count": 9,
     "metadata": {},
     "output_type": "execute_result"
    }
   ],
   "source": [
    "analysis_data=df.groupby('PER_NUMBER')\n",
    "len(analysis_data)"
   ]
  },
  {
   "cell_type": "code",
   "execution_count": 10,
   "id": "_D8Rt91Xcoku",
   "metadata": {
    "colab": {
     "base_uri": "https://localhost:8080/"
    },
    "executionInfo": {
     "elapsed": 3451,
     "status": "ok",
     "timestamp": 1668103576736,
     "user": {
      "displayName": "anupa s",
      "userId": "01249185228802468250"
     },
     "user_tz": 300
    },
    "id": "_D8Rt91Xcoku",
    "outputId": "80663596-c08f-4905-a316-7ab874a4bee9"
   },
   "outputs": [
    {
     "name": "stdout",
     "output_type": "stream",
     "text": [
      "6175 79 0 244 528 281\n",
      "175 189 79 222 521 95142\n"
     ]
    },
    {
     "data": {
      "text/plain": [
       "96328"
      ]
     },
     "execution_count": 10,
     "metadata": {},
     "output_type": "execute_result"
    }
   ],
   "source": [
    "FSA=df[df['PER_NUMBER'].str.contains(\"FSA\")]\n",
    "FSF=df[df['PER_NUMBER'].str.contains(\"FSF\")]\n",
    "FSC=df[df['PER_NUMBER'].str.contains(\"FSC\")]\n",
    "FCA=df[df['PER_NUMBER'].str.contains(\"FCA\")]\n",
    "WG=df[df['PER_NUMBER'].str.contains(\"WG\")]\n",
    "NEG=df[df['PER_NUMBER'].str.contains(\"NEG\")]\n",
    "NE=df[df['PER_NUMBER'].str.contains(\"NE0\")]\n",
    "RFID=df[df['PER_NUMBER'].str.contains(\"RFID\")]\n",
    "RT=df[df['PER_NUMBER'].str.contains(\"RT\")]\n",
    "BBF=df[df['PER_NUMBER'].str.contains(\"BBF\")]\n",
    "NEMP=df[df['PER_NUMBER'].str.contains(\"NEMP\")]\n",
    "others=df[df['PER_NUMBER'].str.isdigit()]\n",
    "print(FSA['PER_NUMBER'].nunique(),FSF['PER_NUMBER'].nunique(),FSC['PER_NUMBER'].nunique(),WG['PER_NUMBER'].nunique(),NEG['PER_NUMBER'].nunique(),RFID['PER_NUMBER'].nunique())\n",
    "print(NE['PER_NUMBER'].nunique(),NEMP['PER_NUMBER'].nunique(),BBF['PER_NUMBER'].nunique(),FCA['PER_NUMBER'].nunique(),RT['PER_NUMBER'].nunique(),others['PER_NUMBER'].nunique())\n",
    "\n",
    "total=FSA['PER_NUMBER'].nunique()+FSF['PER_NUMBER'].nunique()+FSC['PER_NUMBER'].nunique()+WG['PER_NUMBER'].nunique()+NEG['PER_NUMBER'].nunique()+RFID['PER_NUMBER'].nunique()\n",
    "+NE['PER_NUMBER'].nunique()+NEMP['PER_NUMBER'].nunique()+BBF['PER_NUMBER'].nunique()+FCA['PER_NUMBER'].nunique()+RT['PER_NUMBER'].nunique()+others['PER_NUMBER'].nunique()\n"
   ]
  },
  {
   "cell_type": "code",
   "execution_count": 11,
   "id": "Vxe2rUlxikXo",
   "metadata": {
    "colab": {
     "base_uri": "https://localhost:8080/",
     "height": 394
    },
    "executionInfo": {
     "elapsed": 151,
     "status": "ok",
     "timestamp": 1668103991587,
     "user": {
      "displayName": "anupa s",
      "userId": "01249185228802468250"
     },
     "user_tz": 300
    },
    "id": "Vxe2rUlxikXo",
    "outputId": "afe08b25-4ad2-497a-e57a-85af25989b6e"
   },
   "outputs": [
    {
     "data": {
      "text/html": [
       "<div>\n",
       "<style scoped>\n",
       "    .dataframe tbody tr th:only-of-type {\n",
       "        vertical-align: middle;\n",
       "    }\n",
       "\n",
       "    .dataframe tbody tr th {\n",
       "        vertical-align: top;\n",
       "    }\n",
       "\n",
       "    .dataframe thead th {\n",
       "        text-align: right;\n",
       "    }\n",
       "</style>\n",
       "<table border=\"1\" class=\"dataframe\">\n",
       "  <thead>\n",
       "    <tr style=\"text-align: right;\">\n",
       "      <th></th>\n",
       "      <th>Permits</th>\n",
       "      <th>Count</th>\n",
       "    </tr>\n",
       "  </thead>\n",
       "  <tbody>\n",
       "    <tr>\n",
       "      <th>0</th>\n",
       "      <td>FSA</td>\n",
       "      <td>6175</td>\n",
       "    </tr>\n",
       "    <tr>\n",
       "      <th>1</th>\n",
       "      <td>FSF</td>\n",
       "      <td>79</td>\n",
       "    </tr>\n",
       "    <tr>\n",
       "      <th>2</th>\n",
       "      <td>FSC</td>\n",
       "      <td>0</td>\n",
       "    </tr>\n",
       "    <tr>\n",
       "      <th>3</th>\n",
       "      <td>WG</td>\n",
       "      <td>244</td>\n",
       "    </tr>\n",
       "    <tr>\n",
       "      <th>4</th>\n",
       "      <td>NEG</td>\n",
       "      <td>528</td>\n",
       "    </tr>\n",
       "    <tr>\n",
       "      <th>5</th>\n",
       "      <td>RFID</td>\n",
       "      <td>281</td>\n",
       "    </tr>\n",
       "    <tr>\n",
       "      <th>6</th>\n",
       "      <td>NE</td>\n",
       "      <td>175</td>\n",
       "    </tr>\n",
       "    <tr>\n",
       "      <th>7</th>\n",
       "      <td>NEMP</td>\n",
       "      <td>189</td>\n",
       "    </tr>\n",
       "    <tr>\n",
       "      <th>8</th>\n",
       "      <td>BBF</td>\n",
       "      <td>79</td>\n",
       "    </tr>\n",
       "    <tr>\n",
       "      <th>9</th>\n",
       "      <td>FCA</td>\n",
       "      <td>222</td>\n",
       "    </tr>\n",
       "    <tr>\n",
       "      <th>10</th>\n",
       "      <td>RT</td>\n",
       "      <td>521</td>\n",
       "    </tr>\n",
       "  </tbody>\n",
       "</table>\n",
       "</div>"
      ],
      "text/plain": [
       "   Permits  Count\n",
       "0      FSA   6175\n",
       "1      FSF     79\n",
       "2      FSC      0\n",
       "3       WG    244\n",
       "4      NEG    528\n",
       "5     RFID    281\n",
       "6       NE    175\n",
       "7     NEMP    189\n",
       "8      BBF     79\n",
       "9      FCA    222\n",
       "10      RT    521"
      ]
     },
     "execution_count": 11,
     "metadata": {},
     "output_type": "execute_result"
    }
   ],
   "source": [
    "import matplotlib.pyplot as plt\n",
    "x=[\"FSA\",\"FSF\",\"FSC\",\"WG\",\"NEG\",\"RFID\",\"NE\",\"NEMP\",\"BBF\",\"FCA\",\"RT\"]\n",
    "y=[FSA['PER_NUMBER'].nunique(),FSF['PER_NUMBER'].nunique(),FSC['PER_NUMBER'].nunique(),WG['PER_NUMBER'].nunique(),NEG['PER_NUMBER'].nunique(),RFID['PER_NUMBER'].nunique(),\n",
    "   NE['PER_NUMBER'].nunique(),NEMP['PER_NUMBER'].nunique(),BBF['PER_NUMBER'].nunique(),FCA['PER_NUMBER'].nunique(),RT['PER_NUMBER'].nunique()]\n",
    "d=pd.DataFrame({'Permits': x,'Count': y})\n",
    "d"
   ]
  },
  {
   "cell_type": "code",
   "execution_count": 12,
   "id": "COKI5Hh1m0fT",
   "metadata": {
    "colab": {
     "base_uri": "https://localhost:8080/",
     "height": 502
    },
    "executionInfo": {
     "elapsed": 411,
     "status": "ok",
     "timestamp": 1668103992473,
     "user": {
      "displayName": "anupa s",
      "userId": "01249185228802468250"
     },
     "user_tz": 300
    },
    "id": "COKI5Hh1m0fT",
    "outputId": "17f2c3ee-7465-49cf-90b9-1315e8a621a5"
   },
   "outputs": [
    {
     "data": {
      "image/png": "[encoded data removed]",
      "text/plain": [
       "<Figure size 576x576 with 1 Axes>"
      ]
     },
     "metadata": {
      "needs_background": "light"
     },
     "output_type": "display_data"
    }
   ],
   "source": [
    "from matplotlib import pyplot as plt\n",
    "import seaborn as sns\n",
    "plt.figure(figsize=(8,8))\n",
    "ax=sns.barplot(data=d, x=\"Permits\", y=\"Count\")\n",
    "\n",
    "\n"
   ]
  },
  {
   "cell_type": "code",
   "execution_count": 181,
   "id": "_gk1RmzqvNvp",
   "metadata": {
    "colab": {
     "base_uri": "https://localhost:8080/",
     "height": 424
    },
    "executionInfo": {
     "elapsed": 595,
     "status": "ok",
     "timestamp": 1668104027468,
     "user": {
      "displayName": "anupa s",
      "userId": "01249185228802468250"
     },
     "user_tz": 300
    },
    "id": "_gk1RmzqvNvp",
    "outputId": "3bdf0150-0b09-4b41-d9e4-f1cb3b359220"
   },
   "outputs": [
    {
     "data": {
      "text/html": [
       "<div>\n",
       "<style scoped>\n",
       "    .dataframe tbody tr th:only-of-type {\n",
       "        vertical-align: middle;\n",
       "    }\n",
       "\n",
       "    .dataframe tbody tr th {\n",
       "        vertical-align: top;\n",
       "    }\n",
       "\n",
       "    .dataframe thead th {\n",
       "        text-align: right;\n",
       "    }\n",
       "</style>\n",
       "<table border=\"1\" class=\"dataframe\">\n",
       "  <thead>\n",
       "    <tr style=\"text-align: right;\">\n",
       "      <th></th>\n",
       "      <th>INC_UID</th>\n",
       "      <th>INC_INFO</th>\n",
       "      <th>INC_DATE</th>\n",
       "      <th>INC_MODIFY_DATE</th>\n",
       "      <th>PER_NUMBER</th>\n",
       "    </tr>\n",
       "  </thead>\n",
       "  <tbody>\n",
       "    <tr>\n",
       "      <th>24</th>\n",
       "      <td>13947588</td>\n",
       "      <td>4.00</td>\n",
       "      <td>7/17/2021 9:26:31 AM</td>\n",
       "      <td>7/17/2021 9:26:34 AM</td>\n",
       "      <td>0512019540</td>\n",
       "    </tr>\n",
       "    <tr>\n",
       "      <th>25</th>\n",
       "      <td>13947596</td>\n",
       "      <td>2.00</td>\n",
       "      <td>7/17/2021 9:38:50 AM</td>\n",
       "      <td>7/17/2021 9:38:54 AM</td>\n",
       "      <td>0512019542</td>\n",
       "    </tr>\n",
       "    <tr>\n",
       "      <th>32</th>\n",
       "      <td>13947601</td>\n",
       "      <td>4.00</td>\n",
       "      <td>7/17/2021 10:05:10 AM</td>\n",
       "      <td>7/17/2021 10:05:33 AM</td>\n",
       "      <td>0512019541</td>\n",
       "    </tr>\n",
       "    <tr>\n",
       "      <th>35</th>\n",
       "      <td>13947606</td>\n",
       "      <td>6.00</td>\n",
       "      <td>7/17/2021 10:26:03 AM</td>\n",
       "      <td>7/17/2021 10:26:08 AM</td>\n",
       "      <td>0510018059</td>\n",
       "    </tr>\n",
       "    <tr>\n",
       "      <th>40</th>\n",
       "      <td>13947612</td>\n",
       "      <td>0.00</td>\n",
       "      <td>7/17/2021 10:53:40 AM</td>\n",
       "      <td>7/17/2021 10:53:56 AM</td>\n",
       "      <td>0512019545</td>\n",
       "    </tr>\n",
       "    <tr>\n",
       "      <th>...</th>\n",
       "      <td>...</td>\n",
       "      <td>...</td>\n",
       "      <td>...</td>\n",
       "      <td>...</td>\n",
       "      <td>...</td>\n",
       "    </tr>\n",
       "    <tr>\n",
       "      <th>702601</th>\n",
       "      <td>15109635</td>\n",
       "      <td>6.00</td>\n",
       "      <td>9/29/2022 10:08:39 PM</td>\n",
       "      <td>9/29/2022 10:08:58 PM</td>\n",
       "      <td>0512077003</td>\n",
       "    </tr>\n",
       "    <tr>\n",
       "      <th>702603</th>\n",
       "      <td>15109639</td>\n",
       "      <td>6.00</td>\n",
       "      <td>9/29/2022 10:12:09 PM</td>\n",
       "      <td>9/29/2022 10:12:24 PM</td>\n",
       "      <td>0512077004</td>\n",
       "    </tr>\n",
       "    <tr>\n",
       "      <th>702605</th>\n",
       "      <td>15109642</td>\n",
       "      <td>4.00</td>\n",
       "      <td>9/29/2022 10:13:08 PM</td>\n",
       "      <td>9/29/2022 10:13:19 PM</td>\n",
       "      <td>0510055719</td>\n",
       "    </tr>\n",
       "    <tr>\n",
       "      <th>702613</th>\n",
       "      <td>15109678</td>\n",
       "      <td>4.00</td>\n",
       "      <td>9/29/2022 11:29:26 PM</td>\n",
       "      <td>9/29/2022 11:29:29 PM</td>\n",
       "      <td>0510055720</td>\n",
       "    </tr>\n",
       "    <tr>\n",
       "      <th>702614</th>\n",
       "      <td>15109680</td>\n",
       "      <td>0.00</td>\n",
       "      <td>9/29/2022 11:31:06 PM</td>\n",
       "      <td>9/29/2022 11:31:19 PM</td>\n",
       "      <td>0510055720</td>\n",
       "    </tr>\n",
       "  </tbody>\n",
       "</table>\n",
       "<p>88566 rows × 5 columns</p>\n",
       "</div>"
      ],
      "text/plain": [
       "         INC_UID INC_INFO               INC_DATE        INC_MODIFY_DATE  \\\n",
       "24      13947588    4.00    7/17/2021 9:26:31 AM   7/17/2021 9:26:34 AM   \n",
       "25      13947596    2.00    7/17/2021 9:38:50 AM   7/17/2021 9:38:54 AM   \n",
       "32      13947601    4.00   7/17/2021 10:05:10 AM  7/17/2021 10:05:33 AM   \n",
       "35      13947606    6.00   7/17/2021 10:26:03 AM  7/17/2021 10:26:08 AM   \n",
       "40      13947612    0.00   7/17/2021 10:53:40 AM  7/17/2021 10:53:56 AM   \n",
       "...          ...      ...                    ...                    ...   \n",
       "702601  15109635    6.00   9/29/2022 10:08:39 PM  9/29/2022 10:08:58 PM   \n",
       "702603  15109639    6.00   9/29/2022 10:12:09 PM  9/29/2022 10:12:24 PM   \n",
       "702605  15109642    4.00   9/29/2022 10:13:08 PM  9/29/2022 10:13:19 PM   \n",
       "702613  15109678    4.00   9/29/2022 11:29:26 PM  9/29/2022 11:29:29 PM   \n",
       "702614  15109680    0.00   9/29/2022 11:31:06 PM  9/29/2022 11:31:19 PM   \n",
       "\n",
       "        PER_NUMBER  \n",
       "24      0512019540  \n",
       "25      0512019542  \n",
       "32      0512019541  \n",
       "35      0510018059  \n",
       "40      0512019545  \n",
       "...            ...  \n",
       "702601  0512077003  \n",
       "702603  0512077004  \n",
       "702605  0510055719  \n",
       "702613  0510055720  \n",
       "702614  0510055720  \n",
       "\n",
       "[88566 rows x 5 columns]"
      ]
     },
     "execution_count": 181,
     "metadata": {},
     "output_type": "execute_result"
    }
   ],
   "source": [
    "amount=df[df['INC_INFO'].str.contains(\"Amount\", na=False)]\n",
    "amount['INC_INFO'] = amount['INC_INFO'].map(lambda x: x.lstrip('Amount Paid: $'))\n",
    "totalamount=pd.to_numeric(amount['INC_INFO']).sum()\n",
    "amount['INC_INFO'].count(),totalamount\n",
    "amount\n",
    "#filter\n"
   ]
  },
  {
   "cell_type": "code",
   "execution_count": 182,
   "id": "76c381f1",
   "metadata": {},
   "outputs": [
    {
     "data": {
      "text/plain": [
       "24         7/17/2021 9:26:31 AM\n",
       "25         7/17/2021 9:38:50 AM\n",
       "32        7/17/2021 10:05:10 AM\n",
       "35        7/17/2021 10:26:03 AM\n",
       "40        7/17/2021 10:53:40 AM\n",
       "                  ...          \n",
       "702601    9/29/2022 10:08:39 PM\n",
       "702603    9/29/2022 10:12:09 PM\n",
       "702605    9/29/2022 10:13:08 PM\n",
       "702613    9/29/2022 11:29:26 PM\n",
       "702614    9/29/2022 11:31:06 PM\n",
       "Name: INC_DATE, Length: 88566, dtype: object"
      ]
     },
     "execution_count": 182,
     "metadata": {},
     "output_type": "execute_result"
    }
   ],
   "source": [
    "amount['INC_DATE']"
   ]
  },
  {
   "cell_type": "code",
   "execution_count": 183,
   "id": "d436a139",
   "metadata": {},
   "outputs": [
    {
     "data": {
      "text/html": [
       "<div>\n",
       "<style scoped>\n",
       "    .dataframe tbody tr th:only-of-type {\n",
       "        vertical-align: middle;\n",
       "    }\n",
       "\n",
       "    .dataframe tbody tr th {\n",
       "        vertical-align: top;\n",
       "    }\n",
       "\n",
       "    .dataframe thead th {\n",
       "        text-align: right;\n",
       "    }\n",
       "</style>\n",
       "<table border=\"1\" class=\"dataframe\">\n",
       "  <thead>\n",
       "    <tr style=\"text-align: right;\">\n",
       "      <th></th>\n",
       "      <th>INC_UID</th>\n",
       "      <th>INC_INFO</th>\n",
       "      <th>INC_DATE</th>\n",
       "      <th>INC_MODIFY_DATE</th>\n",
       "      <th>PER_NUMBER</th>\n",
       "      <th>Dates</th>\n",
       "      <th>Time</th>\n",
       "    </tr>\n",
       "  </thead>\n",
       "  <tbody>\n",
       "    <tr>\n",
       "      <th>24</th>\n",
       "      <td>13947588</td>\n",
       "      <td>4.00</td>\n",
       "      <td>7/17/2021 9:26:31 AM</td>\n",
       "      <td>7/17/2021 9:26:34 AM</td>\n",
       "      <td>0512019540</td>\n",
       "      <td>2021-07-17</td>\n",
       "      <td>09:26:31</td>\n",
       "    </tr>\n",
       "    <tr>\n",
       "      <th>25</th>\n",
       "      <td>13947596</td>\n",
       "      <td>2.00</td>\n",
       "      <td>7/17/2021 9:38:50 AM</td>\n",
       "      <td>7/17/2021 9:38:54 AM</td>\n",
       "      <td>0512019542</td>\n",
       "      <td>2021-07-17</td>\n",
       "      <td>09:38:50</td>\n",
       "    </tr>\n",
       "    <tr>\n",
       "      <th>32</th>\n",
       "      <td>13947601</td>\n",
       "      <td>4.00</td>\n",
       "      <td>7/17/2021 10:05:10 AM</td>\n",
       "      <td>7/17/2021 10:05:33 AM</td>\n",
       "      <td>0512019541</td>\n",
       "      <td>2021-07-17</td>\n",
       "      <td>10:05:10</td>\n",
       "    </tr>\n",
       "    <tr>\n",
       "      <th>35</th>\n",
       "      <td>13947606</td>\n",
       "      <td>6.00</td>\n",
       "      <td>7/17/2021 10:26:03 AM</td>\n",
       "      <td>7/17/2021 10:26:08 AM</td>\n",
       "      <td>0510018059</td>\n",
       "      <td>2021-07-17</td>\n",
       "      <td>10:26:03</td>\n",
       "    </tr>\n",
       "    <tr>\n",
       "      <th>40</th>\n",
       "      <td>13947612</td>\n",
       "      <td>0.00</td>\n",
       "      <td>7/17/2021 10:53:40 AM</td>\n",
       "      <td>7/17/2021 10:53:56 AM</td>\n",
       "      <td>0512019545</td>\n",
       "      <td>2021-07-17</td>\n",
       "      <td>10:53:40</td>\n",
       "    </tr>\n",
       "    <tr>\n",
       "      <th>...</th>\n",
       "      <td>...</td>\n",
       "      <td>...</td>\n",
       "      <td>...</td>\n",
       "      <td>...</td>\n",
       "      <td>...</td>\n",
       "      <td>...</td>\n",
       "      <td>...</td>\n",
       "    </tr>\n",
       "    <tr>\n",
       "      <th>702601</th>\n",
       "      <td>15109635</td>\n",
       "      <td>6.00</td>\n",
       "      <td>9/29/2022 10:08:39 PM</td>\n",
       "      <td>9/29/2022 10:08:58 PM</td>\n",
       "      <td>0512077003</td>\n",
       "      <td>2022-09-29</td>\n",
       "      <td>22:08:39</td>\n",
       "    </tr>\n",
       "    <tr>\n",
       "      <th>702603</th>\n",
       "      <td>15109639</td>\n",
       "      <td>6.00</td>\n",
       "      <td>9/29/2022 10:12:09 PM</td>\n",
       "      <td>9/29/2022 10:12:24 PM</td>\n",
       "      <td>0512077004</td>\n",
       "      <td>2022-09-29</td>\n",
       "      <td>22:12:09</td>\n",
       "    </tr>\n",
       "    <tr>\n",
       "      <th>702605</th>\n",
       "      <td>15109642</td>\n",
       "      <td>4.00</td>\n",
       "      <td>9/29/2022 10:13:08 PM</td>\n",
       "      <td>9/29/2022 10:13:19 PM</td>\n",
       "      <td>0510055719</td>\n",
       "      <td>2022-09-29</td>\n",
       "      <td>22:13:08</td>\n",
       "    </tr>\n",
       "    <tr>\n",
       "      <th>702613</th>\n",
       "      <td>15109678</td>\n",
       "      <td>4.00</td>\n",
       "      <td>9/29/2022 11:29:26 PM</td>\n",
       "      <td>9/29/2022 11:29:29 PM</td>\n",
       "      <td>0510055720</td>\n",
       "      <td>2022-09-29</td>\n",
       "      <td>23:29:26</td>\n",
       "    </tr>\n",
       "    <tr>\n",
       "      <th>702614</th>\n",
       "      <td>15109680</td>\n",
       "      <td>0.00</td>\n",
       "      <td>9/29/2022 11:31:06 PM</td>\n",
       "      <td>9/29/2022 11:31:19 PM</td>\n",
       "      <td>0510055720</td>\n",
       "      <td>2022-09-29</td>\n",
       "      <td>23:31:06</td>\n",
       "    </tr>\n",
       "  </tbody>\n",
       "</table>\n",
       "<p>88566 rows × 7 columns</p>\n",
       "</div>"
      ],
      "text/plain": [
       "         INC_UID INC_INFO               INC_DATE        INC_MODIFY_DATE  \\\n",
       "24      13947588    4.00    7/17/2021 9:26:31 AM   7/17/2021 9:26:34 AM   \n",
       "25      13947596    2.00    7/17/2021 9:38:50 AM   7/17/2021 9:38:54 AM   \n",
       "32      13947601    4.00   7/17/2021 10:05:10 AM  7/17/2021 10:05:33 AM   \n",
       "35      13947606    6.00   7/17/2021 10:26:03 AM  7/17/2021 10:26:08 AM   \n",
       "40      13947612    0.00   7/17/2021 10:53:40 AM  7/17/2021 10:53:56 AM   \n",
       "...          ...      ...                    ...                    ...   \n",
       "702601  15109635    6.00   9/29/2022 10:08:39 PM  9/29/2022 10:08:58 PM   \n",
       "702603  15109639    6.00   9/29/2022 10:12:09 PM  9/29/2022 10:12:24 PM   \n",
       "702605  15109642    4.00   9/29/2022 10:13:08 PM  9/29/2022 10:13:19 PM   \n",
       "702613  15109678    4.00   9/29/2022 11:29:26 PM  9/29/2022 11:29:29 PM   \n",
       "702614  15109680    0.00   9/29/2022 11:31:06 PM  9/29/2022 11:31:19 PM   \n",
       "\n",
       "        PER_NUMBER       Dates      Time  \n",
       "24      0512019540  2021-07-17  09:26:31  \n",
       "25      0512019542  2021-07-17  09:38:50  \n",
       "32      0512019541  2021-07-17  10:05:10  \n",
       "35      0510018059  2021-07-17  10:26:03  \n",
       "40      0512019545  2021-07-17  10:53:40  \n",
       "...            ...         ...       ...  \n",
       "702601  0512077003  2022-09-29  22:08:39  \n",
       "702603  0512077004  2022-09-29  22:12:09  \n",
       "702605  0510055719  2022-09-29  22:13:08  \n",
       "702613  0510055720  2022-09-29  23:29:26  \n",
       "702614  0510055720  2022-09-29  23:31:06  \n",
       "\n",
       "[88566 rows x 7 columns]"
      ]
     },
     "execution_count": 183,
     "metadata": {},
     "output_type": "execute_result"
    }
   ],
   "source": [
    "amount['Dates'] = pd.to_datetime(amount['INC_DATE']).dt.date\n",
    "amount['Time'] = pd.to_datetime(amount['INC_DATE']).dt.time\n",
    "amount"
   ]
  },
  {
   "cell_type": "code",
   "execution_count": 184,
   "id": "d9c9dda0",
   "metadata": {},
   "outputs": [],
   "source": [
    "s=amount\n",
    "#s = s.drop(\"INC_UID\", axis='columns')\n",
    "s['INC_INFO'] = s['INC_INFO'].astype(float)"
   ]
  },
  {
   "cell_type": "code",
   "execution_count": 185,
   "id": "d89e0297",
   "metadata": {},
   "outputs": [
    {
     "data": {
      "text/html": [
       "<div>\n",
       "<style scoped>\n",
       "    .dataframe tbody tr th:only-of-type {\n",
       "        vertical-align: middle;\n",
       "    }\n",
       "\n",
       "    .dataframe tbody tr th {\n",
       "        vertical-align: top;\n",
       "    }\n",
       "\n",
       "    .dataframe thead th {\n",
       "        text-align: right;\n",
       "    }\n",
       "</style>\n",
       "<table border=\"1\" class=\"dataframe\">\n",
       "  <thead>\n",
       "    <tr style=\"text-align: right;\">\n",
       "      <th></th>\n",
       "      <th>INC_INFO</th>\n",
       "      <th>INC_DATE</th>\n",
       "      <th>INC_MODIFY_DATE</th>\n",
       "      <th>PER_NUMBER</th>\n",
       "      <th>Dates</th>\n",
       "      <th>Time</th>\n",
       "    </tr>\n",
       "  </thead>\n",
       "  <tbody>\n",
       "    <tr>\n",
       "      <th>24</th>\n",
       "      <td>4.0</td>\n",
       "      <td>7/17/2021 9:26:31 AM</td>\n",
       "      <td>7/17/2021 9:26:34 AM</td>\n",
       "      <td>0512019540</td>\n",
       "      <td>2021-07-17</td>\n",
       "      <td>09:26:31</td>\n",
       "    </tr>\n",
       "    <tr>\n",
       "      <th>25</th>\n",
       "      <td>2.0</td>\n",
       "      <td>7/17/2021 9:38:50 AM</td>\n",
       "      <td>7/17/2021 9:38:54 AM</td>\n",
       "      <td>0512019542</td>\n",
       "      <td>2021-07-17</td>\n",
       "      <td>09:38:50</td>\n",
       "    </tr>\n",
       "    <tr>\n",
       "      <th>32</th>\n",
       "      <td>4.0</td>\n",
       "      <td>7/17/2021 10:05:10 AM</td>\n",
       "      <td>7/17/2021 10:05:33 AM</td>\n",
       "      <td>0512019541</td>\n",
       "      <td>2021-07-17</td>\n",
       "      <td>10:05:10</td>\n",
       "    </tr>\n",
       "    <tr>\n",
       "      <th>35</th>\n",
       "      <td>6.0</td>\n",
       "      <td>7/17/2021 10:26:03 AM</td>\n",
       "      <td>7/17/2021 10:26:08 AM</td>\n",
       "      <td>0510018059</td>\n",
       "      <td>2021-07-17</td>\n",
       "      <td>10:26:03</td>\n",
       "    </tr>\n",
       "    <tr>\n",
       "      <th>40</th>\n",
       "      <td>0.0</td>\n",
       "      <td>7/17/2021 10:53:40 AM</td>\n",
       "      <td>7/17/2021 10:53:56 AM</td>\n",
       "      <td>0512019545</td>\n",
       "      <td>2021-07-17</td>\n",
       "      <td>10:53:40</td>\n",
       "    </tr>\n",
       "    <tr>\n",
       "      <th>...</th>\n",
       "      <td>...</td>\n",
       "      <td>...</td>\n",
       "      <td>...</td>\n",
       "      <td>...</td>\n",
       "      <td>...</td>\n",
       "      <td>...</td>\n",
       "    </tr>\n",
       "    <tr>\n",
       "      <th>702601</th>\n",
       "      <td>6.0</td>\n",
       "      <td>9/29/2022 10:08:39 PM</td>\n",
       "      <td>9/29/2022 10:08:58 PM</td>\n",
       "      <td>0512077003</td>\n",
       "      <td>2022-09-29</td>\n",
       "      <td>22:08:39</td>\n",
       "    </tr>\n",
       "    <tr>\n",
       "      <th>702603</th>\n",
       "      <td>6.0</td>\n",
       "      <td>9/29/2022 10:12:09 PM</td>\n",
       "      <td>9/29/2022 10:12:24 PM</td>\n",
       "      <td>0512077004</td>\n",
       "      <td>2022-09-29</td>\n",
       "      <td>22:12:09</td>\n",
       "    </tr>\n",
       "    <tr>\n",
       "      <th>702605</th>\n",
       "      <td>4.0</td>\n",
       "      <td>9/29/2022 10:13:08 PM</td>\n",
       "      <td>9/29/2022 10:13:19 PM</td>\n",
       "      <td>0510055719</td>\n",
       "      <td>2022-09-29</td>\n",
       "      <td>22:13:08</td>\n",
       "    </tr>\n",
       "    <tr>\n",
       "      <th>702613</th>\n",
       "      <td>4.0</td>\n",
       "      <td>9/29/2022 11:29:26 PM</td>\n",
       "      <td>9/29/2022 11:29:29 PM</td>\n",
       "      <td>0510055720</td>\n",
       "      <td>2022-09-29</td>\n",
       "      <td>23:29:26</td>\n",
       "    </tr>\n",
       "    <tr>\n",
       "      <th>702614</th>\n",
       "      <td>0.0</td>\n",
       "      <td>9/29/2022 11:31:06 PM</td>\n",
       "      <td>9/29/2022 11:31:19 PM</td>\n",
       "      <td>0510055720</td>\n",
       "      <td>2022-09-29</td>\n",
       "      <td>23:31:06</td>\n",
       "    </tr>\n",
       "  </tbody>\n",
       "</table>\n",
       "<p>88566 rows × 6 columns</p>\n",
       "</div>"
      ],
      "text/plain": [
       "        INC_INFO               INC_DATE        INC_MODIFY_DATE  PER_NUMBER  \\\n",
       "24           4.0   7/17/2021 9:26:31 AM   7/17/2021 9:26:34 AM  0512019540   \n",
       "25           2.0   7/17/2021 9:38:50 AM   7/17/2021 9:38:54 AM  0512019542   \n",
       "32           4.0  7/17/2021 10:05:10 AM  7/17/2021 10:05:33 AM  0512019541   \n",
       "35           6.0  7/17/2021 10:26:03 AM  7/17/2021 10:26:08 AM  0510018059   \n",
       "40           0.0  7/17/2021 10:53:40 AM  7/17/2021 10:53:56 AM  0512019545   \n",
       "...          ...                    ...                    ...         ...   \n",
       "702601       6.0  9/29/2022 10:08:39 PM  9/29/2022 10:08:58 PM  0512077003   \n",
       "702603       6.0  9/29/2022 10:12:09 PM  9/29/2022 10:12:24 PM  0512077004   \n",
       "702605       4.0  9/29/2022 10:13:08 PM  9/29/2022 10:13:19 PM  0510055719   \n",
       "702613       4.0  9/29/2022 11:29:26 PM  9/29/2022 11:29:29 PM  0510055720   \n",
       "702614       0.0  9/29/2022 11:31:06 PM  9/29/2022 11:31:19 PM  0510055720   \n",
       "\n",
       "             Dates      Time  \n",
       "24      2021-07-17  09:26:31  \n",
       "25      2021-07-17  09:38:50  \n",
       "32      2021-07-17  10:05:10  \n",
       "35      2021-07-17  10:26:03  \n",
       "40      2021-07-17  10:53:40  \n",
       "...            ...       ...  \n",
       "702601  2022-09-29  22:08:39  \n",
       "702603  2022-09-29  22:12:09  \n",
       "702605  2022-09-29  22:13:08  \n",
       "702613  2022-09-29  23:29:26  \n",
       "702614  2022-09-29  23:31:06  \n",
       "\n",
       "[88566 rows x 6 columns]"
      ]
     },
     "execution_count": 185,
     "metadata": {},
     "output_type": "execute_result"
    }
   ],
   "source": [
    "s = s.drop('INC_UID', axis=1)\n",
    "s"
   ]
  },
  {
   "cell_type": "code",
   "execution_count": 188,
   "id": "5bdad1be",
   "metadata": {},
   "outputs": [
    {
     "data": {
      "text/html": [
       "<div>\n",
       "<style scoped>\n",
       "    .dataframe tbody tr th:only-of-type {\n",
       "        vertical-align: middle;\n",
       "    }\n",
       "\n",
       "    .dataframe tbody tr th {\n",
       "        vertical-align: top;\n",
       "    }\n",
       "\n",
       "    .dataframe thead th {\n",
       "        text-align: right;\n",
       "    }\n",
       "</style>\n",
       "<table border=\"1\" class=\"dataframe\">\n",
       "  <thead>\n",
       "    <tr style=\"text-align: right;\">\n",
       "      <th></th>\n",
       "      <th>INC_INFO</th>\n",
       "      <th>INC_MODIFY_DATE</th>\n",
       "      <th>PER_NUMBER</th>\n",
       "      <th>Dates</th>\n",
       "      <th>Time</th>\n",
       "    </tr>\n",
       "    <tr>\n",
       "      <th>INC_DATE</th>\n",
       "      <th></th>\n",
       "      <th></th>\n",
       "      <th></th>\n",
       "      <th></th>\n",
       "      <th></th>\n",
       "    </tr>\n",
       "  </thead>\n",
       "  <tbody>\n",
       "    <tr>\n",
       "      <th>2021-07-17 09:26:31</th>\n",
       "      <td>4.0</td>\n",
       "      <td>7/17/2021 9:26:34 AM</td>\n",
       "      <td>0512019540</td>\n",
       "      <td>2021-07-17</td>\n",
       "      <td>09:26:31</td>\n",
       "    </tr>\n",
       "    <tr>\n",
       "      <th>2021-07-17 09:38:50</th>\n",
       "      <td>2.0</td>\n",
       "      <td>7/17/2021 9:38:54 AM</td>\n",
       "      <td>0512019542</td>\n",
       "      <td>2021-07-17</td>\n",
       "      <td>09:38:50</td>\n",
       "    </tr>\n",
       "    <tr>\n",
       "      <th>2021-07-17 10:05:10</th>\n",
       "      <td>4.0</td>\n",
       "      <td>7/17/2021 10:05:33 AM</td>\n",
       "      <td>0512019541</td>\n",
       "      <td>2021-07-17</td>\n",
       "      <td>10:05:10</td>\n",
       "    </tr>\n",
       "    <tr>\n",
       "      <th>2021-07-17 10:26:03</th>\n",
       "      <td>6.0</td>\n",
       "      <td>7/17/2021 10:26:08 AM</td>\n",
       "      <td>0510018059</td>\n",
       "      <td>2021-07-17</td>\n",
       "      <td>10:26:03</td>\n",
       "    </tr>\n",
       "    <tr>\n",
       "      <th>2021-07-17 10:53:40</th>\n",
       "      <td>0.0</td>\n",
       "      <td>7/17/2021 10:53:56 AM</td>\n",
       "      <td>0512019545</td>\n",
       "      <td>2021-07-17</td>\n",
       "      <td>10:53:40</td>\n",
       "    </tr>\n",
       "    <tr>\n",
       "      <th>...</th>\n",
       "      <td>...</td>\n",
       "      <td>...</td>\n",
       "      <td>...</td>\n",
       "      <td>...</td>\n",
       "      <td>...</td>\n",
       "    </tr>\n",
       "    <tr>\n",
       "      <th>2022-09-29 22:08:39</th>\n",
       "      <td>6.0</td>\n",
       "      <td>9/29/2022 10:08:58 PM</td>\n",
       "      <td>0512077003</td>\n",
       "      <td>2022-09-29</td>\n",
       "      <td>22:08:39</td>\n",
       "    </tr>\n",
       "    <tr>\n",
       "      <th>2022-09-29 22:12:09</th>\n",
       "      <td>6.0</td>\n",
       "      <td>9/29/2022 10:12:24 PM</td>\n",
       "      <td>0512077004</td>\n",
       "      <td>2022-09-29</td>\n",
       "      <td>22:12:09</td>\n",
       "    </tr>\n",
       "    <tr>\n",
       "      <th>2022-09-29 22:13:08</th>\n",
       "      <td>4.0</td>\n",
       "      <td>9/29/2022 10:13:19 PM</td>\n",
       "      <td>0510055719</td>\n",
       "      <td>2022-09-29</td>\n",
       "      <td>22:13:08</td>\n",
       "    </tr>\n",
       "    <tr>\n",
       "      <th>2022-09-29 23:29:26</th>\n",
       "      <td>4.0</td>\n",
       "      <td>9/29/2022 11:29:29 PM</td>\n",
       "      <td>0510055720</td>\n",
       "      <td>2022-09-29</td>\n",
       "      <td>23:29:26</td>\n",
       "    </tr>\n",
       "    <tr>\n",
       "      <th>2022-09-29 23:31:06</th>\n",
       "      <td>0.0</td>\n",
       "      <td>9/29/2022 11:31:19 PM</td>\n",
       "      <td>0510055720</td>\n",
       "      <td>2022-09-29</td>\n",
       "      <td>23:31:06</td>\n",
       "    </tr>\n",
       "  </tbody>\n",
       "</table>\n",
       "<p>88566 rows × 5 columns</p>\n",
       "</div>"
      ],
      "text/plain": [
       "                     INC_INFO        INC_MODIFY_DATE  PER_NUMBER       Dates  \\\n",
       "INC_DATE                                                                       \n",
       "2021-07-17 09:26:31       4.0   7/17/2021 9:26:34 AM  0512019540  2021-07-17   \n",
       "2021-07-17 09:38:50       2.0   7/17/2021 9:38:54 AM  0512019542  2021-07-17   \n",
       "2021-07-17 10:05:10       4.0  7/17/2021 10:05:33 AM  0512019541  2021-07-17   \n",
       "2021-07-17 10:26:03       6.0  7/17/2021 10:26:08 AM  0510018059  2021-07-17   \n",
       "2021-07-17 10:53:40       0.0  7/17/2021 10:53:56 AM  0512019545  2021-07-17   \n",
       "...                       ...                    ...         ...         ...   \n",
       "2022-09-29 22:08:39       6.0  9/29/2022 10:08:58 PM  0512077003  2022-09-29   \n",
       "2022-09-29 22:12:09       6.0  9/29/2022 10:12:24 PM  0512077004  2022-09-29   \n",
       "2022-09-29 22:13:08       4.0  9/29/2022 10:13:19 PM  0510055719  2022-09-29   \n",
       "2022-09-29 23:29:26       4.0  9/29/2022 11:29:29 PM  0510055720  2022-09-29   \n",
       "2022-09-29 23:31:06       0.0  9/29/2022 11:31:19 PM  0510055720  2022-09-29   \n",
       "\n",
       "                         Time  \n",
       "INC_DATE                       \n",
       "2021-07-17 09:26:31  09:26:31  \n",
       "2021-07-17 09:38:50  09:38:50  \n",
       "2021-07-17 10:05:10  10:05:10  \n",
       "2021-07-17 10:26:03  10:26:03  \n",
       "2021-07-17 10:53:40  10:53:40  \n",
       "...                       ...  \n",
       "2022-09-29 22:08:39  22:08:39  \n",
       "2022-09-29 22:12:09  22:12:09  \n",
       "2022-09-29 22:13:08  22:13:08  \n",
       "2022-09-29 23:29:26  23:29:26  \n",
       "2022-09-29 23:31:06  23:31:06  \n",
       "\n",
       "[88566 rows x 5 columns]"
      ]
     },
     "execution_count": 188,
     "metadata": {},
     "output_type": "execute_result"
    }
   ],
   "source": [
    "s.index = pd.to_datetime(s.pop('INC_DATE'))\n",
    "s"
   ]
  },
  {
   "cell_type": "code",
   "execution_count": 196,
   "id": "cb2804bb",
   "metadata": {},
   "outputs": [
    {
     "data": {
      "text/html": [
       "<div>\n",
       "<style scoped>\n",
       "    .dataframe tbody tr th:only-of-type {\n",
       "        vertical-align: middle;\n",
       "    }\n",
       "\n",
       "    .dataframe tbody tr th {\n",
       "        vertical-align: top;\n",
       "    }\n",
       "\n",
       "    .dataframe thead th {\n",
       "        text-align: right;\n",
       "    }\n",
       "</style>\n",
       "<table border=\"1\" class=\"dataframe\">\n",
       "  <thead>\n",
       "    <tr style=\"text-align: right;\">\n",
       "      <th></th>\n",
       "      <th>INC_INFO</th>\n",
       "    </tr>\n",
       "    <tr>\n",
       "      <th>INC_DATE</th>\n",
       "      <th></th>\n",
       "    </tr>\n",
       "  </thead>\n",
       "  <tbody>\n",
       "    <tr>\n",
       "      <th>2021-07-17 09:00:00</th>\n",
       "      <td>6.0</td>\n",
       "    </tr>\n",
       "    <tr>\n",
       "      <th>2021-07-17 10:00:00</th>\n",
       "      <td>10.0</td>\n",
       "    </tr>\n",
       "    <tr>\n",
       "      <th>2021-07-17 11:00:00</th>\n",
       "      <td>0.0</td>\n",
       "    </tr>\n",
       "    <tr>\n",
       "      <th>2021-07-17 12:00:00</th>\n",
       "      <td>0.0</td>\n",
       "    </tr>\n",
       "    <tr>\n",
       "      <th>2021-07-17 13:00:00</th>\n",
       "      <td>10.0</td>\n",
       "    </tr>\n",
       "    <tr>\n",
       "      <th>...</th>\n",
       "      <td>...</td>\n",
       "    </tr>\n",
       "    <tr>\n",
       "      <th>2022-09-29 19:00:00</th>\n",
       "      <td>70.0</td>\n",
       "    </tr>\n",
       "    <tr>\n",
       "      <th>2022-09-29 20:00:00</th>\n",
       "      <td>36.0</td>\n",
       "    </tr>\n",
       "    <tr>\n",
       "      <th>2022-09-29 21:00:00</th>\n",
       "      <td>38.0</td>\n",
       "    </tr>\n",
       "    <tr>\n",
       "      <th>2022-09-29 22:00:00</th>\n",
       "      <td>34.0</td>\n",
       "    </tr>\n",
       "    <tr>\n",
       "      <th>2022-09-29 23:00:00</th>\n",
       "      <td>4.0</td>\n",
       "    </tr>\n",
       "  </tbody>\n",
       "</table>\n",
       "<p>10551 rows × 1 columns</p>\n",
       "</div>"
      ],
      "text/plain": [
       "                     INC_INFO\n",
       "INC_DATE                     \n",
       "2021-07-17 09:00:00       6.0\n",
       "2021-07-17 10:00:00      10.0\n",
       "2021-07-17 11:00:00       0.0\n",
       "2021-07-17 12:00:00       0.0\n",
       "2021-07-17 13:00:00      10.0\n",
       "...                       ...\n",
       "2022-09-29 19:00:00      70.0\n",
       "2022-09-29 20:00:00      36.0\n",
       "2022-09-29 21:00:00      38.0\n",
       "2022-09-29 22:00:00      34.0\n",
       "2022-09-29 23:00:00       4.0\n",
       "\n",
       "[10551 rows x 1 columns]"
      ]
     },
     "execution_count": 196,
     "metadata": {},
     "output_type": "execute_result"
    }
   ],
   "source": [
    "resamp= s.resample('H').sum()\n",
    "resamp"
   ]
  },
  {
   "cell_type": "code",
   "execution_count": 201,
   "id": "d744dd13",
   "metadata": {},
   "outputs": [
    {
     "data": {
      "image/png": "[encoded data removed]",
      "text/plain": [
       "<Figure size 1008x576 with 1 Axes>"
      ]
     },
     "metadata": {},
     "output_type": "display_data"
    }
   ],
   "source": [
    "#HourWise Analysis\n",
    "s.resample('H').sum().plot()"
   ]
  },
  {
   "cell_type": "code",
   "execution_count": 202,
   "id": "8afbbbc0",
   "metadata": {},
   "outputs": [
    {
     "data": {
      "text/plain": [
       "<AxesSubplot:xlabel='INC_DATE'>"
      ]
     },
     "execution_count": 202,
     "metadata": {},
     "output_type": "execute_result"
    },
    {
     "data": {
      "image/png": "[encoded data removed]",
      "text/plain": [
       "<Figure size 1008x576 with 1 Axes>"
      ]
     },
     "metadata": {},
     "output_type": "display_data"
    }
   ],
   "source": [
    "s.resample('Q').sum().plot()"
   ]
  },
  {
   "cell_type": "code",
   "execution_count": 192,
   "id": "c52c4b57",
   "metadata": {},
   "outputs": [
    {
     "data": {
      "text/plain": [
       "<AxesSubplot:xlabel='INC_DATE'>"
      ]
     },
     "execution_count": 192,
     "metadata": {},
     "output_type": "execute_result"
    },
    {
     "data": {
      "image/png": "[encoded data removed]",
      "text/plain": [
       "<Figure size 1008x576 with 1 Axes>"
      ]
     },
     "metadata": {},
     "output_type": "display_data"
    }
   ],
   "source": [
    "s.resample('H').sum().plot()"
   ]
  },
  {
   "cell_type": "code",
   "execution_count": 190,
   "id": "6d9cb280",
   "metadata": {},
   "outputs": [
    {
     "data": {
      "text/html": [
       "<div>\n",
       "<style scoped>\n",
       "    .dataframe tbody tr th:only-of-type {\n",
       "        vertical-align: middle;\n",
       "    }\n",
       "\n",
       "    .dataframe tbody tr th {\n",
       "        vertical-align: top;\n",
       "    }\n",
       "\n",
       "    .dataframe thead th {\n",
       "        text-align: right;\n",
       "    }\n",
       "</style>\n",
       "<table border=\"1\" class=\"dataframe\">\n",
       "  <thead>\n",
       "    <tr style=\"text-align: right;\">\n",
       "      <th></th>\n",
       "      <th>INC_INFO</th>\n",
       "    </tr>\n",
       "    <tr>\n",
       "      <th>INC_DATE</th>\n",
       "      <th></th>\n",
       "    </tr>\n",
       "  </thead>\n",
       "  <tbody>\n",
       "    <tr>\n",
       "      <th>2021-07-31</th>\n",
       "      <td>7500.0</td>\n",
       "    </tr>\n",
       "    <tr>\n",
       "      <th>2021-08-31</th>\n",
       "      <td>27610.0</td>\n",
       "    </tr>\n",
       "    <tr>\n",
       "      <th>2021-09-30</th>\n",
       "      <td>30522.0</td>\n",
       "    </tr>\n",
       "    <tr>\n",
       "      <th>2021-10-31</th>\n",
       "      <td>31074.0</td>\n",
       "    </tr>\n",
       "    <tr>\n",
       "      <th>2021-11-30</th>\n",
       "      <td>26274.0</td>\n",
       "    </tr>\n",
       "    <tr>\n",
       "      <th>2021-12-31</th>\n",
       "      <td>21130.0</td>\n",
       "    </tr>\n",
       "    <tr>\n",
       "      <th>2022-01-31</th>\n",
       "      <td>19146.0</td>\n",
       "    </tr>\n",
       "    <tr>\n",
       "      <th>2022-02-28</th>\n",
       "      <td>29586.0</td>\n",
       "    </tr>\n",
       "    <tr>\n",
       "      <th>2022-03-31</th>\n",
       "      <td>33248.0</td>\n",
       "    </tr>\n",
       "    <tr>\n",
       "      <th>2022-04-30</th>\n",
       "      <td>36980.0</td>\n",
       "    </tr>\n",
       "    <tr>\n",
       "      <th>2022-05-31</th>\n",
       "      <td>27886.0</td>\n",
       "    </tr>\n",
       "    <tr>\n",
       "      <th>2022-06-30</th>\n",
       "      <td>22742.0</td>\n",
       "    </tr>\n",
       "    <tr>\n",
       "      <th>2022-07-31</th>\n",
       "      <td>23230.0</td>\n",
       "    </tr>\n",
       "    <tr>\n",
       "      <th>2022-08-31</th>\n",
       "      <td>31230.0</td>\n",
       "    </tr>\n",
       "    <tr>\n",
       "      <th>2022-09-30</th>\n",
       "      <td>30952.0</td>\n",
       "    </tr>\n",
       "  </tbody>\n",
       "</table>\n",
       "</div>"
      ],
      "text/plain": [
       "            INC_INFO\n",
       "INC_DATE            \n",
       "2021-07-31    7500.0\n",
       "2021-08-31   27610.0\n",
       "2021-09-30   30522.0\n",
       "2021-10-31   31074.0\n",
       "2021-11-30   26274.0\n",
       "2021-12-31   21130.0\n",
       "2022-01-31   19146.0\n",
       "2022-02-28   29586.0\n",
       "2022-03-31   33248.0\n",
       "2022-04-30   36980.0\n",
       "2022-05-31   27886.0\n",
       "2022-06-30   22742.0\n",
       "2022-07-31   23230.0\n",
       "2022-08-31   31230.0\n",
       "2022-09-30   30952.0"
      ]
     },
     "execution_count": 190,
     "metadata": {},
     "output_type": "execute_result"
    }
   ],
   "source": [
    "#MonthWise Projection\n",
    "s.resample('M').sum()"
   ]
  },
  {
   "cell_type": "code",
   "execution_count": 178,
   "id": "0c179c6c",
   "metadata": {},
   "outputs": [
    {
     "data": {
      "text/plain": [
       "<AxesSubplot:xlabel='Dates'>"
      ]
     },
     "execution_count": 178,
     "metadata": {},
     "output_type": "execute_result"
    },
    {
     "data": {
      "image/png": "[encoded data removed]",
      "text/plain": [
       "<Figure size 1008x576 with 1 Axes>"
      ]
     },
     "metadata": {},
     "output_type": "display_data"
    }
   ],
   "source": [
    "#MonthWise Projection\n",
    "s.resample('M').sum().plot()"
   ]
  },
  {
   "cell_type": "code",
   "execution_count": 203,
   "id": "a3c6f4de",
   "metadata": {},
   "outputs": [
    {
     "data": {
      "text/plain": [
       "<AxesSubplot:xlabel='INC_DATE'>"
      ]
     },
     "execution_count": 203,
     "metadata": {},
     "output_type": "execute_result"
    },
    {
     "data": {
      "image/png": "[encoded data removed]",
      "text/plain": [
       "<Figure size 1008x576 with 1 Axes>"
      ]
     },
     "metadata": {},
     "output_type": "display_data"
    }
   ],
   "source": [
    "s.resample('Q').sum().plot()"
   ]
  },
  {
   "cell_type": "code",
   "execution_count": 174,
   "id": "f9986a95",
   "metadata": {},
   "outputs": [
    {
     "data": {
      "text/html": [
       "<div>\n",
       "<style scoped>\n",
       "    .dataframe tbody tr th:only-of-type {\n",
       "        vertical-align: middle;\n",
       "    }\n",
       "\n",
       "    .dataframe tbody tr th {\n",
       "        vertical-align: top;\n",
       "    }\n",
       "\n",
       "    .dataframe thead th {\n",
       "        text-align: right;\n",
       "    }\n",
       "</style>\n",
       "<table border=\"1\" class=\"dataframe\">\n",
       "  <thead>\n",
       "    <tr style=\"text-align: right;\">\n",
       "      <th></th>\n",
       "      <th>INC_INFO</th>\n",
       "    </tr>\n",
       "    <tr>\n",
       "      <th>Dates</th>\n",
       "      <th></th>\n",
       "    </tr>\n",
       "  </thead>\n",
       "  <tbody>\n",
       "    <tr>\n",
       "      <th>2021-12-31</th>\n",
       "      <td>144110.0</td>\n",
       "    </tr>\n",
       "    <tr>\n",
       "      <th>2022-12-31</th>\n",
       "      <td>255000.0</td>\n",
       "    </tr>\n",
       "  </tbody>\n",
       "</table>\n",
       "</div>"
      ],
      "text/plain": [
       "            INC_INFO\n",
       "Dates               \n",
       "2021-12-31  144110.0\n",
       "2022-12-31  255000.0"
      ]
     },
     "execution_count": 174,
     "metadata": {},
     "output_type": "execute_result"
    }
   ],
   "source": [
    "s.resample('Y').sum()"
   ]
  },
  {
   "cell_type": "code",
   "execution_count": 175,
   "id": "ea6d8316",
   "metadata": {},
   "outputs": [
    {
     "data": {
      "text/plain": [
       "<AxesSubplot:xlabel='Dates'>"
      ]
     },
     "execution_count": 175,
     "metadata": {},
     "output_type": "execute_result"
    },
    {
     "data": {
      "image/png": "[encoded data removed]",
      "text/plain": [
       "<Figure size 1008x576 with 1 Axes>"
      ]
     },
     "metadata": {},
     "output_type": "display_data"
    }
   ],
   "source": [
    "#Year Wise Projection\n",
    "s.resample('Y').sum().plot()"
   ]
  },
  {
   "cell_type": "code",
   "execution_count": 57,
   "id": "e5b18642",
   "metadata": {},
   "outputs": [
    {
     "data": {
      "image/png": "[encoded data removed]",
      "text/plain": [
       "<Figure size 720x720 with 1 Axes>"
      ]
     },
     "metadata": {},
     "output_type": "display_data"
    }
   ],
   "source": [
    "#Plotting Points - Month Wise\n",
    "# Create figure and plot space\n",
    "fig, ax = plt.subplots(figsize=(10, 10))\n",
    "\n",
    "# Add x-axis and y-axis\n",
    "ax.scatter(s.resample('M').sum().index.values,\n",
    "           s.resample('M').sum()['INC_INFO'],\n",
    "           color='purple')\n",
    "\n",
    "# Set title and labels for axes\n",
    "ax.set(xlabel=\"Date\",\n",
    "       ylabel=\"INC_DATA\",\n",
    "       title=\"Monthly Cost 2021-2022\")\n",
    "\n",
    "plt.show()"
   ]
  },
  {
   "cell_type": "code",
   "execution_count": 13,
   "id": "XitqJ2zZWQKB",
   "metadata": {
    "colab": {
     "base_uri": "https://localhost:8080/",
     "height": 143
    },
    "executionInfo": {
     "elapsed": 346,
     "status": "ok",
     "timestamp": 1668104028829,
     "user": {
      "displayName": "anupa s",
      "userId": "01249185228802468250"
     },
     "user_tz": 300
    },
    "id": "XitqJ2zZWQKB",
    "outputId": "22494278-eb02-4259-a611-12f7fd30f087"
   },
   "outputs": [
    {
     "data": {
      "text/html": [
       "<div>\n",
       "<style scoped>\n",
       "    .dataframe tbody tr th:only-of-type {\n",
       "        vertical-align: middle;\n",
       "    }\n",
       "\n",
       "    .dataframe tbody tr th {\n",
       "        vertical-align: top;\n",
       "    }\n",
       "\n",
       "    .dataframe thead th {\n",
       "        text-align: right;\n",
       "    }\n",
       "</style>\n",
       "<table border=\"1\" class=\"dataframe\">\n",
       "  <thead>\n",
       "    <tr style=\"text-align: right;\">\n",
       "      <th></th>\n",
       "      <th>INC_UID</th>\n",
       "      <th>INC_INFO</th>\n",
       "      <th>INC_DATE</th>\n",
       "      <th>INC_MODIFY_DATE</th>\n",
       "      <th>PER_NUMBER</th>\n",
       "    </tr>\n",
       "  </thead>\n",
       "  <tbody>\n",
       "    <tr>\n",
       "      <th>8</th>\n",
       "      <td>13947571</td>\n",
       "      <td>Valid Transient Entry</td>\n",
       "      <td>7/17/2021 7:45:58 AM</td>\n",
       "      <td>7/17/2021 7:46:13 AM</td>\n",
       "      <td>0512019540</td>\n",
       "    </tr>\n",
       "    <tr>\n",
       "      <th>23</th>\n",
       "      <td>13947589</td>\n",
       "      <td>Valid Transient Exit</td>\n",
       "      <td>7/17/2021 9:26:31 AM</td>\n",
       "      <td>7/17/2021 9:26:35 AM</td>\n",
       "      <td>0512019540</td>\n",
       "    </tr>\n",
       "    <tr>\n",
       "      <th>24</th>\n",
       "      <td>13947588</td>\n",
       "      <td>Amount Paid: $4.00</td>\n",
       "      <td>7/17/2021 9:26:31 AM</td>\n",
       "      <td>7/17/2021 9:26:34 AM</td>\n",
       "      <td>0512019540</td>\n",
       "    </tr>\n",
       "  </tbody>\n",
       "</table>\n",
       "</div>"
      ],
      "text/plain": [
       "     INC_UID               INC_INFO              INC_DATE  \\\n",
       "8   13947571  Valid Transient Entry  7/17/2021 7:45:58 AM   \n",
       "23  13947589   Valid Transient Exit  7/17/2021 9:26:31 AM   \n",
       "24  13947588    Amount Paid: $4.00   7/17/2021 9:26:31 AM   \n",
       "\n",
       "         INC_MODIFY_DATE  PER_NUMBER  \n",
       "8   7/17/2021 7:46:13 AM  0512019540  \n",
       "23  7/17/2021 9:26:35 AM  0512019540  \n",
       "24  7/17/2021 9:26:34 AM  0512019540  "
      ]
     },
     "execution_count": 13,
     "metadata": {},
     "output_type": "execute_result"
    }
   ],
   "source": [
    "analysis_data.get_group('0512019540')\n"
   ]
  },
  {
   "cell_type": "code",
   "execution_count": 15,
   "id": "tToNAI0MaKsl",
   "metadata": {
    "colab": {
     "base_uri": "https://localhost:8080/",
     "height": 1000
    },
    "executionInfo": {
     "elapsed": 4,
     "status": "ok",
     "timestamp": 1668104029643,
     "user": {
      "displayName": "anupa s",
      "userId": "01249185228802468250"
     },
     "user_tz": 300
    },
    "id": "tToNAI0MaKsl",
    "outputId": "5d437e40-fde8-41fb-f415-c0bac45dcade"
   },
   "outputs": [
    {
     "data": {
      "text/html": [
       "<div>\n",
       "<style scoped>\n",
       "    .dataframe tbody tr th:only-of-type {\n",
       "        vertical-align: middle;\n",
       "    }\n",
       "\n",
       "    .dataframe tbody tr th {\n",
       "        vertical-align: top;\n",
       "    }\n",
       "\n",
       "    .dataframe thead th {\n",
       "        text-align: right;\n",
       "    }\n",
       "</style>\n",
       "<table border=\"1\" class=\"dataframe\">\n",
       "  <thead>\n",
       "    <tr style=\"text-align: right;\">\n",
       "      <th></th>\n",
       "      <th>INC_UID</th>\n",
       "      <th>INC_INFO</th>\n",
       "      <th>INC_DATE</th>\n",
       "      <th>INC_MODIFY_DATE</th>\n",
       "      <th>PER_NUMBER</th>\n",
       "    </tr>\n",
       "  </thead>\n",
       "  <tbody>\n",
       "    <tr>\n",
       "      <th>5</th>\n",
       "      <td>13947568</td>\n",
       "      <td>Valid Credential Entry</td>\n",
       "      <td>7/17/2021 7:30:01 AM</td>\n",
       "      <td>7/17/2021 7:30:03 AM</td>\n",
       "      <td>RFID00294</td>\n",
       "    </tr>\n",
       "    <tr>\n",
       "      <th>9</th>\n",
       "      <td>13947572</td>\n",
       "      <td>Valid Credential Exit</td>\n",
       "      <td>7/17/2021 7:47:37 AM</td>\n",
       "      <td>7/17/2021 7:47:43 AM</td>\n",
       "      <td>RFID00294</td>\n",
       "    </tr>\n",
       "    <tr>\n",
       "      <th>182755</th>\n",
       "      <td>14254019</td>\n",
       "      <td>Valid Credential Entry</td>\n",
       "      <td>11/7/2021 8:38:02 AM</td>\n",
       "      <td>11/7/2021 8:38:04 AM</td>\n",
       "      <td>RFID00294</td>\n",
       "    </tr>\n",
       "    <tr>\n",
       "      <th>182756</th>\n",
       "      <td>14254024</td>\n",
       "      <td>Valid Credential Exit</td>\n",
       "      <td>11/7/2021 8:51:31 AM</td>\n",
       "      <td>11/7/2021 8:51:37 AM</td>\n",
       "      <td>RFID00294</td>\n",
       "    </tr>\n",
       "    <tr>\n",
       "      <th>224219</th>\n",
       "      <td>14329197</td>\n",
       "      <td>Valid Credential Entry</td>\n",
       "      <td>12/5/2021 9:13:38 AM</td>\n",
       "      <td>12/5/2021 9:13:43 AM</td>\n",
       "      <td>RFID00294</td>\n",
       "    </tr>\n",
       "    <tr>\n",
       "      <th>224224</th>\n",
       "      <td>14329208</td>\n",
       "      <td>Valid Credential Exit</td>\n",
       "      <td>12/5/2021 9:36:43 AM</td>\n",
       "      <td>12/5/2021 9:36:48 AM</td>\n",
       "      <td>RFID00294</td>\n",
       "    </tr>\n",
       "    <tr>\n",
       "      <th>240969</th>\n",
       "      <td>14361986</td>\n",
       "      <td>Valid Credential Entry</td>\n",
       "      <td>12/15/2021 12:28:07 AM</td>\n",
       "      <td>12/15/2021 12:28:09 AM</td>\n",
       "      <td>RFID00294</td>\n",
       "    </tr>\n",
       "    <tr>\n",
       "      <th>240970</th>\n",
       "      <td>14361988</td>\n",
       "      <td>Valid Credential Exit</td>\n",
       "      <td>12/15/2021 12:34:11 AM</td>\n",
       "      <td>12/15/2021 12:34:15 AM</td>\n",
       "      <td>RFID00294</td>\n",
       "    </tr>\n",
       "    <tr>\n",
       "      <th>250053</th>\n",
       "      <td>14377300</td>\n",
       "      <td>Valid Credential Entry</td>\n",
       "      <td>12/21/2021 7:23:31 PM</td>\n",
       "      <td>12/21/2021 7:23:33 PM</td>\n",
       "      <td>RFID00294</td>\n",
       "    </tr>\n",
       "    <tr>\n",
       "      <th>250059</th>\n",
       "      <td>14377307</td>\n",
       "      <td>Valid Credential Exit</td>\n",
       "      <td>12/21/2021 7:33:50 PM</td>\n",
       "      <td>12/21/2021 7:33:57 PM</td>\n",
       "      <td>RFID00294</td>\n",
       "    </tr>\n",
       "    <tr>\n",
       "      <th>254898</th>\n",
       "      <td>14384648</td>\n",
       "      <td>Valid Credential Entry</td>\n",
       "      <td>1/2/2022 9:08:37 AM</td>\n",
       "      <td>1/2/2022 9:08:39 AM</td>\n",
       "      <td>RFID00294</td>\n",
       "    </tr>\n",
       "    <tr>\n",
       "      <th>254900</th>\n",
       "      <td>14384650</td>\n",
       "      <td>Valid Credential Exit</td>\n",
       "      <td>1/2/2022 9:18:49 AM</td>\n",
       "      <td>1/2/2022 9:18:52 AM</td>\n",
       "      <td>RFID00294</td>\n",
       "    </tr>\n",
       "    <tr>\n",
       "      <th>268696</th>\n",
       "      <td>14408144</td>\n",
       "      <td>Valid Credential Entry</td>\n",
       "      <td>1/15/2022 9:07:43 AM</td>\n",
       "      <td>1/15/2022 9:07:46 AM</td>\n",
       "      <td>RFID00294</td>\n",
       "    </tr>\n",
       "    <tr>\n",
       "      <th>268699</th>\n",
       "      <td>14408149</td>\n",
       "      <td>Valid Credential Exit</td>\n",
       "      <td>1/15/2022 9:17:59 AM</td>\n",
       "      <td>1/15/2022 9:18:04 AM</td>\n",
       "      <td>RFID00294</td>\n",
       "    </tr>\n",
       "    <tr>\n",
       "      <th>355479</th>\n",
       "      <td>14593178</td>\n",
       "      <td>Valid Credential Entry</td>\n",
       "      <td>3/8/2022 6:45:16 PM</td>\n",
       "      <td>3/8/2022 6:45:20 PM</td>\n",
       "      <td>RFID00294</td>\n",
       "    </tr>\n",
       "    <tr>\n",
       "      <th>355498</th>\n",
       "      <td>14593203</td>\n",
       "      <td>Valid Credential Exit</td>\n",
       "      <td>3/8/2022 7:08:57 PM</td>\n",
       "      <td>3/8/2022 7:09:03 PM</td>\n",
       "      <td>RFID00294</td>\n",
       "    </tr>\n",
       "    <tr>\n",
       "      <th>374286</th>\n",
       "      <td>14626488</td>\n",
       "      <td>Valid Credential Entry</td>\n",
       "      <td>3/20/2022 7:27:25 PM</td>\n",
       "      <td>3/20/2022 7:27:29 PM</td>\n",
       "      <td>RFID00294</td>\n",
       "    </tr>\n",
       "    <tr>\n",
       "      <th>374295</th>\n",
       "      <td>14626526</td>\n",
       "      <td>Valid Credential Exit</td>\n",
       "      <td>3/20/2022 7:45:23 PM</td>\n",
       "      <td>3/20/2022 7:45:26 PM</td>\n",
       "      <td>RFID00294</td>\n",
       "    </tr>\n",
       "    <tr>\n",
       "      <th>401631</th>\n",
       "      <td>14672099</td>\n",
       "      <td>Valid Credential Entry</td>\n",
       "      <td>4/3/2022 8:43:58 PM</td>\n",
       "      <td>4/3/2022 8:44:03 PM</td>\n",
       "      <td>RFID00294</td>\n",
       "    </tr>\n",
       "    <tr>\n",
       "      <th>434722</th>\n",
       "      <td>14727432</td>\n",
       "      <td>Valid Credential Entry</td>\n",
       "      <td>4/19/2022 5:29:01 PM</td>\n",
       "      <td>4/19/2022 5:29:08 PM</td>\n",
       "      <td>RFID00294</td>\n",
       "    </tr>\n",
       "    <tr>\n",
       "      <th>434749</th>\n",
       "      <td>14727469</td>\n",
       "      <td>Valid Credential Exit</td>\n",
       "      <td>4/19/2022 5:37:27 PM</td>\n",
       "      <td>4/19/2022 5:37:30 PM</td>\n",
       "      <td>RFID00294</td>\n",
       "    </tr>\n",
       "    <tr>\n",
       "      <th>493519</th>\n",
       "      <td>14812959</td>\n",
       "      <td>Valid Credential Entry</td>\n",
       "      <td>5/21/2022 8:28:55 AM</td>\n",
       "      <td>5/21/2022 8:28:59 AM</td>\n",
       "      <td>RFID00294</td>\n",
       "    </tr>\n",
       "    <tr>\n",
       "      <th>493522</th>\n",
       "      <td>14812963</td>\n",
       "      <td>Valid Credential Exit</td>\n",
       "      <td>5/21/2022 8:44:39 AM</td>\n",
       "      <td>5/21/2022 8:44:42 AM</td>\n",
       "      <td>RFID00294</td>\n",
       "    </tr>\n",
       "    <tr>\n",
       "      <th>547705</th>\n",
       "      <td>14880157</td>\n",
       "      <td>Valid Credential Entry</td>\n",
       "      <td>7/4/2022 7:56:36 PM</td>\n",
       "      <td>7/4/2022 7:56:41 PM</td>\n",
       "      <td>RFID00294</td>\n",
       "    </tr>\n",
       "    <tr>\n",
       "      <th>547707</th>\n",
       "      <td>14880159</td>\n",
       "      <td>Valid Credential Exit</td>\n",
       "      <td>7/4/2022 8:05:05 PM</td>\n",
       "      <td>7/4/2022 8:05:08 PM</td>\n",
       "      <td>RFID00294</td>\n",
       "    </tr>\n",
       "    <tr>\n",
       "      <th>547775</th>\n",
       "      <td>14880235</td>\n",
       "      <td>Valid Credential Entry</td>\n",
       "      <td>7/4/2022 9:38:31 PM</td>\n",
       "      <td>7/4/2022 9:38:33 PM</td>\n",
       "      <td>RFID00294</td>\n",
       "    </tr>\n",
       "    <tr>\n",
       "      <th>547918</th>\n",
       "      <td>14880419</td>\n",
       "      <td>Valid Credential Entry</td>\n",
       "      <td>7/5/2022 12:01:27 AM</td>\n",
       "      <td>7/5/2022 12:01:34 AM</td>\n",
       "      <td>RFID00294</td>\n",
       "    </tr>\n",
       "    <tr>\n",
       "      <th>547919</th>\n",
       "      <td>14880420</td>\n",
       "      <td>Valid Credential Exit</td>\n",
       "      <td>7/5/2022 12:06:37 AM</td>\n",
       "      <td>7/5/2022 12:06:43 AM</td>\n",
       "      <td>RFID00294</td>\n",
       "    </tr>\n",
       "    <tr>\n",
       "      <th>564659</th>\n",
       "      <td>14901143</td>\n",
       "      <td>Valid Credential Entry</td>\n",
       "      <td>7/15/2022 2:42:22 PM</td>\n",
       "      <td>7/15/2022 2:42:27 PM</td>\n",
       "      <td>RFID00294</td>\n",
       "    </tr>\n",
       "    <tr>\n",
       "      <th>564678</th>\n",
       "      <td>14901167</td>\n",
       "      <td>Valid Credential Exit</td>\n",
       "      <td>7/15/2022 2:54:12 PM</td>\n",
       "      <td>7/15/2022 2:54:14 PM</td>\n",
       "      <td>RFID00294</td>\n",
       "    </tr>\n",
       "    <tr>\n",
       "      <th>601384</th>\n",
       "      <td>14951229</td>\n",
       "      <td>Valid Credential Entry</td>\n",
       "      <td>8/10/2022 6:04:50 PM</td>\n",
       "      <td>8/10/2022 6:04:52 PM</td>\n",
       "      <td>RFID00294</td>\n",
       "    </tr>\n",
       "    <tr>\n",
       "      <th>601400</th>\n",
       "      <td>14951246</td>\n",
       "      <td>Valid Credential Exit</td>\n",
       "      <td>8/10/2022 6:17:24 PM</td>\n",
       "      <td>8/10/2022 6:17:26 PM</td>\n",
       "      <td>RFID00294</td>\n",
       "    </tr>\n",
       "  </tbody>\n",
       "</table>\n",
       "</div>"
      ],
      "text/plain": [
       "         INC_UID                INC_INFO                INC_DATE  \\\n",
       "5       13947568  Valid Credential Entry    7/17/2021 7:30:01 AM   \n",
       "9       13947572   Valid Credential Exit    7/17/2021 7:47:37 AM   \n",
       "182755  14254019  Valid Credential Entry    11/7/2021 8:38:02 AM   \n",
       "182756  14254024   Valid Credential Exit    11/7/2021 8:51:31 AM   \n",
       "224219  14329197  Valid Credential Entry    12/5/2021 9:13:38 AM   \n",
       "224224  14329208   Valid Credential Exit    12/5/2021 9:36:43 AM   \n",
       "240969  14361986  Valid Credential Entry  12/15/2021 12:28:07 AM   \n",
       "240970  14361988   Valid Credential Exit  12/15/2021 12:34:11 AM   \n",
       "250053  14377300  Valid Credential Entry   12/21/2021 7:23:31 PM   \n",
       "250059  14377307   Valid Credential Exit   12/21/2021 7:33:50 PM   \n",
       "254898  14384648  Valid Credential Entry     1/2/2022 9:08:37 AM   \n",
       "254900  14384650   Valid Credential Exit     1/2/2022 9:18:49 AM   \n",
       "268696  14408144  Valid Credential Entry    1/15/2022 9:07:43 AM   \n",
       "268699  14408149   Valid Credential Exit    1/15/2022 9:17:59 AM   \n",
       "355479  14593178  Valid Credential Entry     3/8/2022 6:45:16 PM   \n",
       "355498  14593203   Valid Credential Exit     3/8/2022 7:08:57 PM   \n",
       "374286  14626488  Valid Credential Entry    3/20/2022 7:27:25 PM   \n",
       "374295  14626526   Valid Credential Exit    3/20/2022 7:45:23 PM   \n",
       "401631  14672099  Valid Credential Entry     4/3/2022 8:43:58 PM   \n",
       "434722  14727432  Valid Credential Entry    4/19/2022 5:29:01 PM   \n",
       "434749  14727469   Valid Credential Exit    4/19/2022 5:37:27 PM   \n",
       "493519  14812959  Valid Credential Entry    5/21/2022 8:28:55 AM   \n",
       "493522  14812963   Valid Credential Exit    5/21/2022 8:44:39 AM   \n",
       "547705  14880157  Valid Credential Entry     7/4/2022 7:56:36 PM   \n",
       "547707  14880159   Valid Credential Exit     7/4/2022 8:05:05 PM   \n",
       "547775  14880235  Valid Credential Entry     7/4/2022 9:38:31 PM   \n",
       "547918  14880419  Valid Credential Entry    7/5/2022 12:01:27 AM   \n",
       "547919  14880420   Valid Credential Exit    7/5/2022 12:06:37 AM   \n",
       "564659  14901143  Valid Credential Entry    7/15/2022 2:42:22 PM   \n",
       "564678  14901167   Valid Credential Exit    7/15/2022 2:54:12 PM   \n",
       "601384  14951229  Valid Credential Entry    8/10/2022 6:04:50 PM   \n",
       "601400  14951246   Valid Credential Exit    8/10/2022 6:17:24 PM   \n",
       "\n",
       "               INC_MODIFY_DATE PER_NUMBER  \n",
       "5         7/17/2021 7:30:03 AM  RFID00294  \n",
       "9         7/17/2021 7:47:43 AM  RFID00294  \n",
       "182755    11/7/2021 8:38:04 AM  RFID00294  \n",
       "182756    11/7/2021 8:51:37 AM  RFID00294  \n",
       "224219    12/5/2021 9:13:43 AM  RFID00294  \n",
       "224224    12/5/2021 9:36:48 AM  RFID00294  \n",
       "240969  12/15/2021 12:28:09 AM  RFID00294  \n",
       "240970  12/15/2021 12:34:15 AM  RFID00294  \n",
       "250053   12/21/2021 7:23:33 PM  RFID00294  \n",
       "250059   12/21/2021 7:33:57 PM  RFID00294  \n",
       "254898     1/2/2022 9:08:39 AM  RFID00294  \n",
       "254900     1/2/2022 9:18:52 AM  RFID00294  \n",
       "268696    1/15/2022 9:07:46 AM  RFID00294  \n",
       "268699    1/15/2022 9:18:04 AM  RFID00294  \n",
       "355479     3/8/2022 6:45:20 PM  RFID00294  \n",
       "355498     3/8/2022 7:09:03 PM  RFID00294  \n",
       "374286    3/20/2022 7:27:29 PM  RFID00294  \n",
       "374295    3/20/2022 7:45:26 PM  RFID00294  \n",
       "401631     4/3/2022 8:44:03 PM  RFID00294  \n",
       "434722    4/19/2022 5:29:08 PM  RFID00294  \n",
       "434749    4/19/2022 5:37:30 PM  RFID00294  \n",
       "493519    5/21/2022 8:28:59 AM  RFID00294  \n",
       "493522    5/21/2022 8:44:42 AM  RFID00294  \n",
       "547705     7/4/2022 7:56:41 PM  RFID00294  \n",
       "547707     7/4/2022 8:05:08 PM  RFID00294  \n",
       "547775     7/4/2022 9:38:33 PM  RFID00294  \n",
       "547918    7/5/2022 12:01:34 AM  RFID00294  \n",
       "547919    7/5/2022 12:06:43 AM  RFID00294  \n",
       "564659    7/15/2022 2:42:27 PM  RFID00294  \n",
       "564678    7/15/2022 2:54:14 PM  RFID00294  \n",
       "601384    8/10/2022 6:04:52 PM  RFID00294  \n",
       "601400    8/10/2022 6:17:26 PM  RFID00294  "
      ]
     },
     "execution_count": 15,
     "metadata": {},
     "output_type": "execute_result"
    }
   ],
   "source": [
    "analysis_data.get_group('RFID00294')"
   ]
  },
  {
   "cell_type": "code",
   "execution_count": null,
   "id": "ltf--UIxa9Fq",
   "metadata": {
    "id": "ltf--UIxa9Fq"
   },
   "outputs": [],
   "source": []
  }
 ],
 "metadata": {
  "colab": {
   "provenance": []
  },
  "kernelspec": {
   "display_name": "Python 3 (ipykernel)",
   "language": "python",
   "name": "python3"
  },
  "language_info": {
   "codemirror_mode": {
    "name": "ipython",
    "version": 3
   },
   "file_extension": ".py",
   "mimetype": "text/x-python",
   "name": "python",
   "nbconvert_exporter": "python",
   "pygments_lexer": "ipython3",
   "version": "3.9.12"
  },
  "varInspector": {
   "cols": {
    "lenName": 16,
    "lenType": 16,
    "lenVar": 40
   },
   "kernels_config": {
    "python": {
     "delete_cmd_postfix": "",
     "delete_cmd_prefix": "del ",
     "library": "var_list.py",
     "varRefreshCmd": "print(var_dic_list())"
    },
    "r": {
     "delete_cmd_postfix": ") ",
     "delete_cmd_prefix": "rm(",
     "library": "var_list.r",
     "varRefreshCmd": "cat(var_dic_list()) "
    }
   },
   "types_to_exclude": [
    "module",
    "function",
    "builtin_function_or_method",
    "instance",
    "_Feature"
   ],
   "window_display": false
  }
 },
 "nbformat": 4,
 "nbformat_minor": 5
}
